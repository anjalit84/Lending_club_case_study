{
 "cells": [
  {
   "cell_type": "code",
   "execution_count": 1,
   "id": "d6a2af06",
   "metadata": {},
   "outputs": [],
   "source": [
    "import pandas as pd\n"
   ]
  },
  {
   "cell_type": "code",
   "execution_count": 2,
   "id": "7f3d051f",
   "metadata": {},
   "outputs": [],
   "source": [
    "sample = pd.DataFrame([70.7872660722392, 70.83848245662462, 71.07521108434771, 71.26495202368258, 71.40152180023644, 71.58442765884725, 71.69197685499348, 72.01920509682716, 72.771144371555, 72.83756864526782, 72.93104243896946, 73.29964866709086, 73.33992935691697, 73.42930712832006, 73.7957876002917, 73.95347586517852, 74.08150834351807, 74.17323532053969, 74.33322962759033, 74.41393732478865, 74.80151744194484, 74.85321967904241, 74.94259910291012, 75.00877363205306, 75.1279583492501, 75.19132910160228, 75.23747325379556, 75.2378809616245, 75.31696952217585, 75.33824615121976, 75.40813839965558, 75.59230778943255, 75.5962486324004, 75.62007858833525, 75.71903727838533, 75.78157675433441, 75.8421225432205, 75.99541102020852, 76.05113898259636, 76.05316522756219, 76.12648206058864, 76.20368051968276, 76.22935623929361, 76.22935623929361, 76.28816772757068, 76.33718806766024, 76.37984019709705, 76.45533026347483, 76.63386989018807, 77.1507672987167, 77.4472239192498, 78.56413485830207, 78.93352362797243, 80.14302992431085, 80.56754724147348, 81.85811330281051, 82.32567248329032, 83.7112071626253, 84.2601026101237])"
   ]
  },
  {
   "cell_type": "code",
   "execution_count": 4,
   "id": "5c013c89",
   "metadata": {},
   "outputs": [
    {
     "data": {
      "text/html": [
       "<div>\n",
       "<style scoped>\n",
       "    .dataframe tbody tr th:only-of-type {\n",
       "        vertical-align: middle;\n",
       "    }\n",
       "\n",
       "    .dataframe tbody tr th {\n",
       "        vertical-align: top;\n",
       "    }\n",
       "\n",
       "    .dataframe thead th {\n",
       "        text-align: right;\n",
       "    }\n",
       "</style>\n",
       "<table border=\"1\" class=\"dataframe\">\n",
       "  <thead>\n",
       "    <tr style=\"text-align: right;\">\n",
       "      <th></th>\n",
       "      <th>0</th>\n",
       "    </tr>\n",
       "  </thead>\n",
       "  <tbody>\n",
       "    <tr>\n",
       "      <th>count</th>\n",
       "      <td>59.000000</td>\n",
       "    </tr>\n",
       "    <tr>\n",
       "      <th>mean</th>\n",
       "      <td>75.501401</td>\n",
       "    </tr>\n",
       "    <tr>\n",
       "      <th>std</th>\n",
       "      <td>2.942337</td>\n",
       "    </tr>\n",
       "    <tr>\n",
       "      <th>min</th>\n",
       "      <td>70.787266</td>\n",
       "    </tr>\n",
       "    <tr>\n",
       "      <th>25%</th>\n",
       "      <td>73.874632</td>\n",
       "    </tr>\n",
       "    <tr>\n",
       "      <th>50%</th>\n",
       "      <td>75.338246</td>\n",
       "    </tr>\n",
       "    <tr>\n",
       "      <th>75%</th>\n",
       "      <td>76.258762</td>\n",
       "    </tr>\n",
       "    <tr>\n",
       "      <th>max</th>\n",
       "      <td>84.260103</td>\n",
       "    </tr>\n",
       "  </tbody>\n",
       "</table>\n",
       "</div>"
      ],
      "text/plain": [
       "               0\n",
       "count  59.000000\n",
       "mean   75.501401\n",
       "std     2.942337\n",
       "min    70.787266\n",
       "25%    73.874632\n",
       "50%    75.338246\n",
       "75%    76.258762\n",
       "max    84.260103"
      ]
     },
     "execution_count": 4,
     "metadata": {},
     "output_type": "execute_result"
    }
   ],
   "source": [
    "sample.describe()"
   ]
  },
  {
   "cell_type": "code",
   "execution_count": null,
   "id": "9b8bf16c",
   "metadata": {},
   "outputs": [],
   "source": []
  }
 ],
 "metadata": {
  "kernelspec": {
   "display_name": "Python 3 (ipykernel)",
   "language": "python",
   "name": "python3"
  },
  "language_info": {
   "codemirror_mode": {
    "name": "ipython",
    "version": 3
   },
   "file_extension": ".py",
   "mimetype": "text/x-python",
   "name": "python",
   "nbconvert_exporter": "python",
   "pygments_lexer": "ipython3",
   "version": "3.10.9"
  }
 },
 "nbformat": 4,
 "nbformat_minor": 5
}
